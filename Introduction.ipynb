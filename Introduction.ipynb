{
 "cells": [
  {
   "cell_type": "markdown",
   "metadata": {},
   "source": [
    "# Introduction"
   ]
  },
  {
   "cell_type": "markdown",
   "metadata": {},
   "source": [
    "## Nowadays medicine is evolving from days to days. And many people want to use the best methods, eben those that cannot be obtained in origin country."
   ]
  },
  {
   "cell_type": "markdown",
   "metadata": {},
   "source": [
    "## Since that, people are seeking for new opportunities and companies that can provide them with medicine cervice abroad."
   ]
  },
  {
   "cell_type": "markdown",
   "metadata": {},
   "source": [
    "## Of course, developing countries have less evolved medicine and highly developed countries have streamlined medicine."
   ]
  },
  {
   "cell_type": "markdown",
   "metadata": {},
   "source": [
    "## For the companies which want to develop in the sphere of medical tourism, I want to provide information which cities are the origin and which can be recipients of the patients who want and can pay for the best medical service."
   ]
  },
  {
   "cell_type": "markdown",
   "metadata": {},
   "source": [
    "# Methods"
   ]
  },
  {
   "cell_type": "markdown",
   "metadata": {},
   "source": [
    "## Firstly, I should figure out how can I find countries that can be donors or recipients of such patients.\n",
    "### On the basis that patients have to pay for this service, I consider that the best method is to explore about monthly income in the biggest cities in the world."
   ]
  },
  {
   "cell_type": "markdown",
   "metadata": {},
   "source": [
    "## I am going to use unece.org ( https://w3.unece.org/PXWeb2015/pxweb/en/STAT/STAT__20-ME__3-MELF/60_en_MECCWagesY_r.px/?rxid=0806c85a-23f8-4249-a4d0-10980df459d1 )"
   ]
  },
  {
   "cell_type": "markdown",
   "metadata": {},
   "source": [
    "## There are enough data about monthly income in different countries from 1990 to 2017 years."
   ]
  },
  {
   "cell_type": "markdown",
   "metadata": {},
   "source": [
    "## After I'll obtain those data I will be able to create a regression model for some next years and say if there is some improvement in some distinct countries. And in the yes-case, I can provide information that there are a lot of or lack medical centers and that patients from that country or countries might want to get medical care in another county."
   ]
  },
  {
   "cell_type": "markdown",
   "metadata": {},
   "source": [
    "## This information can be useful in several ways.\n",
    "* Firstly, companies can use it merely as a prove to establish partner relationship with the local medical center and transfer their patients in another country when it is appropriate or provide them consults with the best physicians from other countries.\n",
    "* Secondly, some companies want to know where they should enforce their business and want to plan their future in different countries for some years ahead. And if I can say that in some distinct countries people will earn more in some years, then, of course, they probably will be able to pay for such expensive service."
   ]
  },
  {
   "cell_type": "markdown",
   "metadata": {},
   "source": [
    "# Data"
   ]
  },
  {
   "cell_type": "markdown",
   "metadata": {},
   "source": [
    "## I will have to use the following data:"
   ]
  },
  {
   "cell_type": "markdown",
   "metadata": {},
   "source": [
    "* The information about the biggest cities in the world. I will obtain it here: https://en.wikipedia.org/wiki/List_of_largest_cities"
   ]
  },
  {
   "cell_type": "markdown",
   "metadata": {},
   "source": [
    "* Information about monthly income in the biggest cities in the world. If there will not be information about some cities I will drop them from my survey. In the future, if it will be possible to get that information, I can recount my data."
   ]
  },
  {
   "cell_type": "markdown",
   "metadata": {},
   "source": [
    "* From Foursquare I want to obtain information about how many hospitals there are in each cities. That can be one of the feature if the people has lack of medicine service."
   ]
  },
  {
   "cell_type": "markdown",
   "metadata": {},
   "source": [
    "# Goals"
   ]
  },
  {
   "cell_type": "markdown",
   "metadata": {},
   "source": [
    "## At the end, all cities will be divided into two groups - recipients and donors on the base of mothly income and numbers of hospitals. It is possible, that some cities cannot be clear regarded to one of them, so they will create the third group."
   ]
  },
  {
   "cell_type": "markdown",
   "metadata": {},
   "source": [
    "## After that I will demonstrate the current situation and the possible state in few years, so that my potential clients can take a decision in which country they would like to develop their business."
   ]
  }
 ],
 "metadata": {
  "kernelspec": {
   "display_name": "Python",
   "language": "python",
   "name": "conda-env-python-py"
  },
  "language_info": {
   "codemirror_mode": {
    "name": "ipython",
    "version": 3
   },
   "file_extension": ".py",
   "mimetype": "text/x-python",
   "name": "python",
   "nbconvert_exporter": "python",
   "pygments_lexer": "ipython3",
   "version": "3.6.7"
  }
 },
 "nbformat": 4,
 "nbformat_minor": 4
}
